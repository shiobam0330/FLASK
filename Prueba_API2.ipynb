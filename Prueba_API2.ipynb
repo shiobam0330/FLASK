{
  "cells": [
    {
      "cell_type": "code",
      "execution_count": 1,
      "id": "02AQRCt2s_J6",
      "metadata": {
        "id": "02AQRCt2s_J6"
      },
      "outputs": [],
      "source": [
        "import requests\n",
        "import json"
      ]
    },
    {
      "cell_type": "code",
      "execution_count": 2,
      "id": "S9ycC65NtgFa",
      "metadata": {
        "id": "S9ycC65NtgFa"
      },
      "outputs": [
        {
          "name": "stdout",
          "output_type": "stream",
          "text": [
            "200\n",
            "{'Prediccion': 462.94, 'email': 'miguel.garcias@usantotomas.edu.co'}\n"
          ]
        }
      ],
      "source": [
        "url = \"http://127.0.0.1:8000/predict\"\n",
        "data = {\n",
        "    \"email\":\"miguel.garcias@usantotomas.edu.co\",\n",
        "    \"avg\": 31.063,\n",
        "    \"time_app\": 11.719,\n",
        "    \"time_web\": 31.712,\n",
        "    \"lenght\": 1.004,\n",
        "    \"dom\": \"gmail\",\n",
        "    \"tec\": \"Smartphone\"\n",
        "}\n",
        "headers = {\"Content-Type\": \"application/json\"}\n",
        "response = requests.post(url, data=json.dumps(data), headers=headers)\n",
        "\n",
        "print(response.status_code)\n",
        "if response.status_code == 200:\n",
        "    print(response.json())\n",
        "else:\n",
        "    print(\"Error en la solicitud:\", response.text)"
      ]
    }
  ],
  "metadata": {
    "colab": {
      "provenance": []
    },
    "kernelspec": {
      "display_name": "Python 3 (ipykernel)",
      "language": "python",
      "name": "python3"
    },
    "language_info": {
      "codemirror_mode": {
        "name": "ipython",
        "version": 3
      },
      "file_extension": ".py",
      "mimetype": "text/x-python",
      "name": "python",
      "nbconvert_exporter": "python",
      "pygments_lexer": "ipython3",
      "version": "3.10.11"
    }
  },
  "nbformat": 4,
  "nbformat_minor": 5
}
